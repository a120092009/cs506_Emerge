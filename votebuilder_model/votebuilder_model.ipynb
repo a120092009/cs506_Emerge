{
 "cells": [
  {
   "cell_type": "code",
   "execution_count": 1,
   "metadata": {},
   "outputs": [
    {
     "name": "stderr",
     "output_type": "stream",
     "text": [
      "/Users/tianyizhao/anaconda/lib/python3.6/site-packages/statsmodels/compat/pandas.py:56: FutureWarning: The pandas.core.datetools module is deprecated and will be removed in a future version. Please use the pandas.tseries module instead.\n",
      "  from pandas.core import datetools\n"
     ]
    }
   ],
   "source": [
    "import pandas as pd\n",
    "import numpy as np\n",
    "import statsmodels.api as sm\n",
    "from pandas.core import datetools\n",
    "from sklearn.model_selection import LeaveOneOut\n",
    "from sklearn.metrics import accuracy_score\n",
    "from sklearn.linear_model import LogisticRegression as LR\n",
    "from sklearn.neighbors import KNeighborsClassifier as KNN\n",
    "from scipy import stats\n",
    "from sklearn.model_selection import train_test_split as tt_split\n",
    "from sklearn.feature_selection import RFE\n",
    "from sklearn.feature_selection import chi2\n",
    "import csv"
   ]
  },
  {
   "cell_type": "code",
   "execution_count": 2,
   "metadata": {},
   "outputs": [],
   "source": [
    "def read_dataset(path):\n",
    "    data = pd.read_csv(path)\n",
    "    return data"
   ]
  },
  {
   "cell_type": "code",
   "execution_count": 3,
   "metadata": {},
   "outputs": [],
   "source": [
    "senate_name_dict = {}\n",
    "house_name_dict = {}\n",
    "name_dict = {}\n",
    "def enumerate_districts(df, type=None):\n",
    "    names = df['District']\n",
    "    count = 0\n",
    "    for name in names:\n",
    "        if type == \"Senate\":\n",
    "            if name not in senate_name_dict:\n",
    "                senate_name_dict[name] = count\n",
    "                count += 1\n",
    "        elif type == \"House\":\n",
    "            if name not in house_name_dict:\n",
    "                house_name_dict[name] = count\n",
    "                count += 1\n",
    "        else:\n",
    "            if name not in name_dict:\n",
    "                name_dict[name] = count\n",
    "                count += 1"
   ]
  },
  {
   "cell_type": "code",
   "execution_count": 4,
   "metadata": {},
   "outputs": [],
   "source": [
    "def replace_district(x, type=None):\n",
    "    if type == \"Senate\":\n",
    "        return senate_name_dict[x]\n",
    "    elif type == \"House\":\n",
    "        return house_name_dict[x]\n",
    "    else:\n",
    "        return name_dict[x]"
   ]
  },
  {
   "cell_type": "code",
   "execution_count": 5,
   "metadata": {},
   "outputs": [],
   "source": [
    "# this will be different than historical_model\n",
    "def clean_data(df, type=None):\n",
    "    # make all text binary\n",
    "    df = df.drop(\"name\", axis=1)\n",
    "    df = df.drop(\"Unnamed: 0\", axis=1)\n",
    "    df['sex'].replace('f', 1, inplace=True)\n",
    "    df['sex'].replace('m', 0, inplace=True)\n",
    "    df['party'].replace('Democratic', 1, inplace=True)\n",
    "    df['party'].replace('Republican', 0, inplace=True)\n",
    "    \n",
    "    # fill NaN's with mean from column\n",
    "    df['sex'] = df['sex'].fillna(round(df['sex'].mean()))\n",
    "    df['party'] = df['party'].fillna(df['party'].mean())\n",
    "    df['Amount'] = df['Amount'].fillna(df['Amount'].mean())\n",
    "    df['District'] = df[\"District\"].apply(lambda x: replace_district(x, type))\n",
    "    \n",
    "    for col in df.columns:\n",
    "        if col == \"vote_count\":\n",
    "            continue\n",
    "        if df[col].dtype != float and df[col].dtype != int:\n",
    "            length = len(list(df[col]))\n",
    "            temp_list = list(df[col])\n",
    "            for i in range(length):\n",
    "                \n",
    "                if \",\" in str(temp_list[i]):\n",
    "                    df[col] = df[col].apply(lambda x: str(x).replace(\",\", \"\").replace('nan', 'NaN')).astype(float)\n",
    "    \n",
    "    df['vote_count'] = df['vote_count'].apply(lambda x: str(x).replace(\",\", \"\").replace('nan', 'NaN')).astype(float)\n",
    "    df['vote_count'] = df['vote_count'].fillna(df['vote_count'].mean())\n",
    "    df['vote_percent'] = df['vote_percent'].fillna(df['vote_percent'].mean())\n",
    "    #df['District'] = df[\"District\"].apply(lambda x: replace_district(x, type))\n",
    "    \n",
    "    # add indicator for female democrat\n",
    "    df['female_dem'] = 0\n",
    "    for index, row in df.iterrows():\n",
    "        if row.sex == 1 and row.party == 1:\n",
    "            df.set_value(index, 'female_dem', 1)\n",
    "            \n",
    "    # remove \"(percent) margin of error\" columns\n",
    "    df = df.iloc[:, [index for index, x in enumerate(df.columns) if 'Margin' not in x]]\n",
    "    \n",
    "    # remove columns with low percent contributions\n",
    "    percent_cols = [col for index, col in enumerate(df.columns) if 'Percent' in col and df[col].mean() < 0.05]\n",
    "    for col in percent_cols:\n",
    "        df = df.drop(col, axis=1)\n",
    "        df = df.drop(col.replace(\"Percent\", \"Estimate\"), axis=1)\n",
    "        \n",
    "    return df"
   ]
  },
  {
   "cell_type": "code",
   "execution_count": 6,
   "metadata": {},
   "outputs": [],
   "source": [
    "def independent_columns(A, tol =0): #= 1e-05):\n",
    "    Q, R = np.linalg.qr(A)\n",
    "    independent = np.where(np.abs(R.diagonal()) > tol)[0]\n",
    "    \n",
    "    return independent"
   ]
  },
  {
   "cell_type": "code",
   "execution_count": 7,
   "metadata": {},
   "outputs": [],
   "source": [
    "def logistic_regression(train_df):\n",
    "    \n",
    "    \n",
    "    loo = LeaveOneOut()\n",
    "    y_train = train_df['female_dem']\n",
    "    X_train = train_df.drop(['sex', 'female_dem', 'party'], axis=1)\n",
    "    \n",
    "    X_array = X_train.values\n",
    "    y_array = y_train.values\n",
    "    y_true = []\n",
    "    y_pred_acc = []\n",
    "    all_coefs = []\n",
    "    \n",
    "    logreg = LR()\n",
    "    rfe = RFE(logreg, 30)\n",
    "    rfe = rfe.fit(X_array, y_array)\n",
    "    cool = rfe.support_\n",
    "    newX = []\n",
    "    newX_test = []\n",
    "    features = []\n",
    "    count = 0\n",
    "    for col in X_train.columns:\n",
    "        if cool[count]:\n",
    "            features += [col]\n",
    "        count+= 1\n",
    "    for i in range(len(X_array)):\n",
    "        temp = []\n",
    "        for j in range(len(cool)):\n",
    "            if cool[j]:\n",
    "                temp += [X_array[i][j]]\n",
    "        if len(temp)>0:\n",
    "            newX += [temp]\n",
    "    newX = np.array(newX)\n",
    "    all_good_features = []\n",
    "    sig_features_dict = {}\n",
    "    for i in features:\n",
    "        sig_features_dict[i] = 0\n",
    "    for train_index, test_index in loo.split(newX):\n",
    "        X_tr, X_te = newX[train_index], newX[test_index]\n",
    "        y_tr, y_test = y_array[train_index], y_array[test_index]\n",
    "        \n",
    "        classifier = LR()\n",
    "        \n",
    "        \n",
    "        chi, pval = chi2(X_tr, y_tr)\n",
    "        count = 0\n",
    "        good_features = []\n",
    "\n",
    "        for i in range(len(pval)):\n",
    "            if pval[i] < .05:\n",
    "                count+=1\n",
    "                sig_features_dict[features[i]] += pval[i]\n",
    "        classifier.fit(X_tr, y_tr)\n",
    "        pred = classifier.predict(X_te)\n",
    "        \n",
    "        y_true += [y_test[0]]\n",
    "        y_pred_acc += [pred]\n",
    "\n",
    "    for i in sig_features_dict:\n",
    "        sig_features_dict[i] = sig_features_dict[i] / 27\n",
    "    \n",
    "#     significant_features = pd.DataFrame.from_dict(sig_features_dict)\n",
    "    print(\"Test accuracy: {}\".format(accuracy_score(y_true, y_pred_acc)))\n",
    "    return sig_features_dict, accuracy_score(y_true, y_pred_acc)"
   ]
  },
  {
   "cell_type": "code",
   "execution_count": 8,
   "metadata": {},
   "outputs": [],
   "source": [
    "def classify_glm(train_df):\n",
    "    \n",
    "    \n",
    "    loo = LeaveOneOut()\n",
    "    y_train = train_df['sex']\n",
    "    X_train = train_df.drop('sex', axis=1)\n",
    "    \n",
    "\n",
    "    \n",
    "    independent = independent_columns(X_train)\n",
    "    X = X_train.iloc[:, independent]\n",
    "    print(\"Rank is {}\".format(X_train.shape[1]))\n",
    "    \n",
    "    X_array = X.values\n",
    "    y_array = y_train.values\n",
    "    y_true = []\n",
    "    y_pred_acc = []\n",
    "    \n",
    "\n",
    "    for train_index, test_index in loo.split(X_array):\n",
    "        X_tr, X_te = X_array[train_index], X_array[test_index]\n",
    "        y_tr, y_test = y_array[train_index], y_array[test_index]\n",
    "\n",
    "        classifier = sm.GLM(y_tr, X_tr)\n",
    "        results = classifier.fit()\n",
    "        print(results.summary())\n",
    "        pred = round(results.predict(X_te)[0])\n",
    "        y_true += [y_test[0]]\n",
    "        y_pred_acc += [pred]\n",
    "    return accuracy_score(y_true, y_pred_acc)"
   ]
  },
  {
   "cell_type": "code",
   "execution_count": 15,
   "metadata": {},
   "outputs": [
    {
     "name": "stderr",
     "output_type": "stream",
     "text": [
      "/Users/tianyizhao/anaconda/lib/python3.6/site-packages/ipykernel_launcher.py:37: FutureWarning: set_value is deprecated and will be removed in a future release. Please use .at[] or .iat[] accessors instead\n"
     ]
    },
    {
     "name": "stdout",
     "output_type": "stream",
     "text": [
      "Senate Logistic Regression: \n",
      "Test accuracy: 0.7777777777777778\n",
      "{'UnEn_Caucasian_high': 0.0, 'Dem_Female': 0.0, 'Total_Voters': 0.0, 'Percent; SEX AND AGE - Total population': 3.891765442564323e-16, 'Estimate; SEX AND AGE - Total population - Female': 0.00028498324606574335, 'Estimate; SEX AND AGE - 5 to 9 years': 0.0022745215111249512, 'Estimate; SEX AND AGE - 20 to 24 years': 0.0, 'Estimate; SEX AND AGE - 35 to 44 years': 0.0022281353616797756, 'Estimate; SEX AND AGE - 55 to 59 years': 0.006682944541098341, 'Estimate; SEX AND AGE - 18 years and over': 5.178096590009824e-14, 'Estimate; SEX AND AGE - 62 years and over': 3.4825161695678315e-163, 'Estimate; SEX AND AGE - 65 years and over': 1.4941721723457067e-165, 'Estimate; SEX AND AGE - 18 years and over.1': 5.178096590009824e-14, 'Percent; SEX AND AGE - 18 years and over.1': 5.178096590009824e-14, 'Estimate; SEX AND AGE - 18 years and over - Male': 2.564148709555007e-23, 'Estimate; SEX AND AGE - 65 years and over.1': 1.4941721723457067e-165, 'Percent; SEX AND AGE - 65 years and over.1': 1.4941721723457067e-165, 'Estimate; SEX AND AGE - 65 years and over - Male': 1.8967787987748923e-93, 'Percent; RACE - Total population': 3.891765442564323e-16, 'Estimate; RACE - Total population - Two or more races': 0.006567427164051011, 'Estimate; RACE - One race - White': 2.0576804192464863e-05, 'Estimate; RACE - One race - Asian - Chinese': 0.0, 'Estimate; RACE - One race - Asian - Other Asian': 0.0, 'Estimate; RACE - Two or more races': 0.006567427164051011, 'Estimate; RACE - Race alone or in combination with one or more other races - Total population - Black or African American': 1.447558951458456e-196, 'Estimate; HISPANIC OR LATINO AND RACE - Total population': 3.891765442564323e-16, 'Estimate; HISPANIC OR LATINO AND RACE - Total population - Hispanic or Latino (of any race) - Other Hispanic or Latino': 0.0, 'Estimate; HISPANIC OR LATINO AND RACE - Total population - Not Hispanic or Latino': 0.0, 'Estimate; HISPANIC OR LATINO AND RACE - Total population - Not Hispanic or Latino - Two or more races': 2.4170280965632864e-84, 'Estimate; HISPANIC OR LATINO AND RACE - Total population - Not Hispanic or Latino - Two or more races - Two races excluding Some other race, and Three or more races': 7.734750044476656e-52}\n",
      "House Logistic Regression: \n",
      "Test accuracy: 0.9333333333333333\n"
     ]
    }
   ],
   "source": [
    "senate_data = read_dataset(\"VoteBuilder_and_all_data_Senate.csv\")\n",
    "enumerate_districts(senate_data, \"Senate\")\n",
    "    \n",
    "cleaned_senate = clean_data(senate_data,\"Senate\")\n",
    "\n",
    "house_data = read_dataset(\"VoteBuilder_and_all_data_House.csv\")\n",
    "enumerate_districts(house_data, \"House\")\n",
    "    \n",
    "cleaned_house = clean_data(house_data,\"House\")\n",
    "\n",
    "\n",
    "print(\"Senate Logistic Regression: \")\n",
    "senate_features, accuracy = logistic_regression(cleaned_senate)\n",
    "print(senate_features)\n",
    "# print(\"OLS Generalized Linear Model: \")\n",
    "# print(classify_glm(cleaned_senate))\n",
    "\n",
    "print(\"House Logistic Regression: \")\n",
    "house_features, house_accuracy = logistic_regression(cleaned_house)\n",
    "\n",
    "\n"
   ]
  },
  {
   "cell_type": "code",
   "execution_count": 12,
   "metadata": {},
   "outputs": [],
   "source": []
  },
  {
   "cell_type": "code",
   "execution_count": 13,
   "metadata": {},
   "outputs": [],
   "source": [
    "with open('senate_features.csv', 'w') as csv_file:\n",
    "    writer = csv.writer(csv_file)\n",
    "    for key, value in senate_features.items():\n",
    "        writer.writerow([key, value])"
   ]
  },
  {
   "cell_type": "code",
   "execution_count": 14,
   "metadata": {},
   "outputs": [],
   "source": [
    "with open('house_features.csv', 'w') as csv_file:\n",
    "    writer = csv.writer(csv_file)\n",
    "    for key, value in house_features.items():\n",
    "        writer.writerow([key, value])"
   ]
  },
  {
   "cell_type": "code",
   "execution_count": null,
   "metadata": {
    "collapsed": true
   },
   "outputs": [],
   "source": []
  }
 ],
 "metadata": {
  "kernelspec": {
   "display_name": "Python 3",
   "language": "python",
   "name": "python3"
  },
  "language_info": {
   "codemirror_mode": {
    "name": "ipython",
    "version": 3
   },
   "file_extension": ".py",
   "mimetype": "text/x-python",
   "name": "python",
   "nbconvert_exporter": "python",
   "pygments_lexer": "ipython3",
   "version": "3.6.4"
  }
 },
 "nbformat": 4,
 "nbformat_minor": 2
}
